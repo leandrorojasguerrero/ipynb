{
  "nbformat": 4,
  "nbformat_minor": 0,
  "metadata": {
    "colab": {
      "name": "compraroalquilarLEANDROROJAS.ipynb",
      "provenance": [],
      "collapsed_sections": [],
      "authorship_tag": "ABX9TyPJbmqZ4/oyGoAQQ5qq1cEF",
      "include_colab_link": true
    },
    "kernelspec": {
      "name": "python3",
      "display_name": "Python 3"
    }
  },
  "cells": [
    {
      "cell_type": "markdown",
      "metadata": {
        "id": "view-in-github",
        "colab_type": "text"
      },
      "source": [
        "<a href=\"https://colab.research.google.com/github/leandrorojasguerrero/ipynb/blob/main/compraroalquilarLEANDROROJAS.ipynb\" target=\"_parent\"><img src=\"https://colab.research.google.com/assets/colab-badge.svg\" alt=\"Open In Colab\"/></a>"
      ]
    },
    {
      "cell_type": "code",
      "metadata": {
        "id": "HD3JpH9v18UP"
      },
      "source": [
        "import warnings #solo mostrar errores del notebook\n",
        "warnings.filterwarnings('ignore')"
      ],
      "execution_count": null,
      "outputs": []
    },
    {
      "cell_type": "code",
      "metadata": {
        "id": "FqjLmgAi2Wlt"
      },
      "source": [
        "#importamos librerias\n",
        "import pandas as pd #lectura y tratamiento de datos\n",
        "import numpy as np #trabajar con valores numericos\n",
        "import seaborn as sns #para trabajar con graficos\n",
        "import matplotlib.pyplot as plt #graficos\n",
        "%matplotlib inline"
      ],
      "execution_count": null,
      "outputs": []
    },
    {
      "cell_type": "code",
      "metadata": {
        "colab": {
          "base_uri": "https://localhost:8080/",
          "height": 359
        },
        "id": "VPxkUd2i2Y3E",
        "outputId": "7fbc704b-01b6-4189-8a58-303af2548392"
      },
      "source": [
        "#cargamos el archivo csv\n",
        "all_data = pd.read_csv(\"comprar_alquilar_dataset.csv\")\n",
        "dataset = all_data.copy()\n",
        "dataset.head(10)#visualizar los 10 primeros"
      ],
      "execution_count": null,
      "outputs": [
        {
          "output_type": "execute_result",
          "data": {
            "text/html": [
              "<div>\n",
              "<style scoped>\n",
              "    .dataframe tbody tr th:only-of-type {\n",
              "        vertical-align: middle;\n",
              "    }\n",
              "\n",
              "    .dataframe tbody tr th {\n",
              "        vertical-align: top;\n",
              "    }\n",
              "\n",
              "    .dataframe thead th {\n",
              "        text-align: right;\n",
              "    }\n",
              "</style>\n",
              "<table border=\"1\" class=\"dataframe\">\n",
              "  <thead>\n",
              "    <tr style=\"text-align: right;\">\n",
              "      <th></th>\n",
              "      <th>ingresos</th>\n",
              "      <th>gastos_comunes</th>\n",
              "      <th>pago_coche</th>\n",
              "      <th>gastos_otros</th>\n",
              "      <th>ahorros</th>\n",
              "      <th>vivienda</th>\n",
              "      <th>estado_civil</th>\n",
              "      <th>hijos</th>\n",
              "      <th>trabajo</th>\n",
              "      <th>comprar</th>\n",
              "    </tr>\n",
              "  </thead>\n",
              "  <tbody>\n",
              "    <tr>\n",
              "      <th>0</th>\n",
              "      <td>6000</td>\n",
              "      <td>1000</td>\n",
              "      <td>0</td>\n",
              "      <td>600</td>\n",
              "      <td>50000</td>\n",
              "      <td>400000</td>\n",
              "      <td>0</td>\n",
              "      <td>2</td>\n",
              "      <td>2</td>\n",
              "      <td>1</td>\n",
              "    </tr>\n",
              "    <tr>\n",
              "      <th>1</th>\n",
              "      <td>6745</td>\n",
              "      <td>944</td>\n",
              "      <td>123</td>\n",
              "      <td>429</td>\n",
              "      <td>43240</td>\n",
              "      <td>636897</td>\n",
              "      <td>1</td>\n",
              "      <td>3</td>\n",
              "      <td>6</td>\n",
              "      <td>0</td>\n",
              "    </tr>\n",
              "    <tr>\n",
              "      <th>2</th>\n",
              "      <td>6455</td>\n",
              "      <td>1033</td>\n",
              "      <td>98</td>\n",
              "      <td>795</td>\n",
              "      <td>57463</td>\n",
              "      <td>321779</td>\n",
              "      <td>2</td>\n",
              "      <td>1</td>\n",
              "      <td>8</td>\n",
              "      <td>1</td>\n",
              "    </tr>\n",
              "    <tr>\n",
              "      <th>3</th>\n",
              "      <td>7098</td>\n",
              "      <td>1278</td>\n",
              "      <td>15</td>\n",
              "      <td>254</td>\n",
              "      <td>54506</td>\n",
              "      <td>660933</td>\n",
              "      <td>0</td>\n",
              "      <td>0</td>\n",
              "      <td>3</td>\n",
              "      <td>0</td>\n",
              "    </tr>\n",
              "    <tr>\n",
              "      <th>4</th>\n",
              "      <td>6167</td>\n",
              "      <td>863</td>\n",
              "      <td>223</td>\n",
              "      <td>520</td>\n",
              "      <td>41512</td>\n",
              "      <td>348932</td>\n",
              "      <td>0</td>\n",
              "      <td>0</td>\n",
              "      <td>3</td>\n",
              "      <td>1</td>\n",
              "    </tr>\n",
              "    <tr>\n",
              "      <th>5</th>\n",
              "      <td>5692</td>\n",
              "      <td>911</td>\n",
              "      <td>11</td>\n",
              "      <td>325</td>\n",
              "      <td>50875</td>\n",
              "      <td>360863</td>\n",
              "      <td>1</td>\n",
              "      <td>4</td>\n",
              "      <td>5</td>\n",
              "      <td>1</td>\n",
              "    </tr>\n",
              "    <tr>\n",
              "      <th>6</th>\n",
              "      <td>6830</td>\n",
              "      <td>1298</td>\n",
              "      <td>345</td>\n",
              "      <td>309</td>\n",
              "      <td>46761</td>\n",
              "      <td>429812</td>\n",
              "      <td>1</td>\n",
              "      <td>1</td>\n",
              "      <td>5</td>\n",
              "      <td>1</td>\n",
              "    </tr>\n",
              "    <tr>\n",
              "      <th>7</th>\n",
              "      <td>6470</td>\n",
              "      <td>1035</td>\n",
              "      <td>39</td>\n",
              "      <td>782</td>\n",
              "      <td>57439</td>\n",
              "      <td>606291</td>\n",
              "      <td>0</td>\n",
              "      <td>0</td>\n",
              "      <td>1</td>\n",
              "      <td>0</td>\n",
              "    </tr>\n",
              "    <tr>\n",
              "      <th>8</th>\n",
              "      <td>6251</td>\n",
              "      <td>1250</td>\n",
              "      <td>209</td>\n",
              "      <td>571</td>\n",
              "      <td>50503</td>\n",
              "      <td>291010</td>\n",
              "      <td>0</td>\n",
              "      <td>0</td>\n",
              "      <td>3</td>\n",
              "      <td>1</td>\n",
              "    </tr>\n",
              "    <tr>\n",
              "      <th>9</th>\n",
              "      <td>6987</td>\n",
              "      <td>1258</td>\n",
              "      <td>252</td>\n",
              "      <td>245</td>\n",
              "      <td>40611</td>\n",
              "      <td>324098</td>\n",
              "      <td>2</td>\n",
              "      <td>1</td>\n",
              "      <td>7</td>\n",
              "      <td>1</td>\n",
              "    </tr>\n",
              "  </tbody>\n",
              "</table>\n",
              "</div>"
            ],
            "text/plain": [
              "   ingresos  gastos_comunes  pago_coche  ...  hijos  trabajo  comprar\n",
              "0      6000            1000           0  ...      2        2        1\n",
              "1      6745             944         123  ...      3        6        0\n",
              "2      6455            1033          98  ...      1        8        1\n",
              "3      7098            1278          15  ...      0        3        0\n",
              "4      6167             863         223  ...      0        3        1\n",
              "5      5692             911          11  ...      4        5        1\n",
              "6      6830            1298         345  ...      1        5        1\n",
              "7      6470            1035          39  ...      0        1        0\n",
              "8      6251            1250         209  ...      0        3        1\n",
              "9      6987            1258         252  ...      1        7        1\n",
              "\n",
              "[10 rows x 10 columns]"
            ]
          },
          "metadata": {
            "tags": []
          },
          "execution_count": 3
        }
      ]
    },
    {
      "cell_type": "code",
      "metadata": {
        "colab": {
          "base_uri": "https://localhost:8080/",
          "height": 204
        },
        "id": "-lt7k7n_2fYv",
        "outputId": "1273d66d-cd74-43b6-eb17-ce57140be78e"
      },
      "source": [
        "#solicitamos los 10 ultimos para saber cuantos son\n",
        "dataset.tail()"
      ],
      "execution_count": null,
      "outputs": [
        {
          "output_type": "execute_result",
          "data": {
            "text/html": [
              "<div>\n",
              "<style scoped>\n",
              "    .dataframe tbody tr th:only-of-type {\n",
              "        vertical-align: middle;\n",
              "    }\n",
              "\n",
              "    .dataframe tbody tr th {\n",
              "        vertical-align: top;\n",
              "    }\n",
              "\n",
              "    .dataframe thead th {\n",
              "        text-align: right;\n",
              "    }\n",
              "</style>\n",
              "<table border=\"1\" class=\"dataframe\">\n",
              "  <thead>\n",
              "    <tr style=\"text-align: right;\">\n",
              "      <th></th>\n",
              "      <th>ingresos</th>\n",
              "      <th>gastos_comunes</th>\n",
              "      <th>pago_coche</th>\n",
              "      <th>gastos_otros</th>\n",
              "      <th>ahorros</th>\n",
              "      <th>vivienda</th>\n",
              "      <th>estado_civil</th>\n",
              "      <th>hijos</th>\n",
              "      <th>trabajo</th>\n",
              "      <th>comprar</th>\n",
              "    </tr>\n",
              "  </thead>\n",
              "  <tbody>\n",
              "    <tr>\n",
              "      <th>197</th>\n",
              "      <td>3831</td>\n",
              "      <td>690</td>\n",
              "      <td>352</td>\n",
              "      <td>488</td>\n",
              "      <td>10723</td>\n",
              "      <td>363120</td>\n",
              "      <td>0</td>\n",
              "      <td>0</td>\n",
              "      <td>2</td>\n",
              "      <td>0</td>\n",
              "    </tr>\n",
              "    <tr>\n",
              "      <th>198</th>\n",
              "      <td>3961</td>\n",
              "      <td>1030</td>\n",
              "      <td>270</td>\n",
              "      <td>475</td>\n",
              "      <td>21880</td>\n",
              "      <td>280421</td>\n",
              "      <td>2</td>\n",
              "      <td>3</td>\n",
              "      <td>8</td>\n",
              "      <td>0</td>\n",
              "    </tr>\n",
              "    <tr>\n",
              "      <th>199</th>\n",
              "      <td>3184</td>\n",
              "      <td>955</td>\n",
              "      <td>276</td>\n",
              "      <td>684</td>\n",
              "      <td>35565</td>\n",
              "      <td>388025</td>\n",
              "      <td>1</td>\n",
              "      <td>3</td>\n",
              "      <td>8</td>\n",
              "      <td>0</td>\n",
              "    </tr>\n",
              "    <tr>\n",
              "      <th>200</th>\n",
              "      <td>3334</td>\n",
              "      <td>867</td>\n",
              "      <td>369</td>\n",
              "      <td>652</td>\n",
              "      <td>19985</td>\n",
              "      <td>376892</td>\n",
              "      <td>1</td>\n",
              "      <td>2</td>\n",
              "      <td>5</td>\n",
              "      <td>0</td>\n",
              "    </tr>\n",
              "    <tr>\n",
              "      <th>201</th>\n",
              "      <td>3988</td>\n",
              "      <td>1157</td>\n",
              "      <td>105</td>\n",
              "      <td>382</td>\n",
              "      <td>11980</td>\n",
              "      <td>257580</td>\n",
              "      <td>0</td>\n",
              "      <td>0</td>\n",
              "      <td>4</td>\n",
              "      <td>0</td>\n",
              "    </tr>\n",
              "  </tbody>\n",
              "</table>\n",
              "</div>"
            ],
            "text/plain": [
              "     ingresos  gastos_comunes  pago_coche  ...  hijos  trabajo  comprar\n",
              "197      3831             690         352  ...      0        2        0\n",
              "198      3961            1030         270  ...      3        8        0\n",
              "199      3184             955         276  ...      3        8        0\n",
              "200      3334             867         369  ...      2        5        0\n",
              "201      3988            1157         105  ...      0        4        0\n",
              "\n",
              "[5 rows x 10 columns]"
            ]
          },
          "metadata": {
            "tags": []
          },
          "execution_count": 4
        }
      ]
    },
    {
      "cell_type": "code",
      "metadata": {
        "colab": {
          "base_uri": "https://localhost:8080/"
        },
        "id": "534vp6RX2rlv",
        "outputId": "3a0e4557-e040-4c66-9bb0-f955ae2088f9"
      },
      "source": [
        "#para saber información detallada de mi dataset\n",
        "dataset.info()"
      ],
      "execution_count": null,
      "outputs": [
        {
          "output_type": "stream",
          "text": [
            "<class 'pandas.core.frame.DataFrame'>\n",
            "RangeIndex: 202 entries, 0 to 201\n",
            "Data columns (total 10 columns):\n",
            " #   Column          Non-Null Count  Dtype\n",
            "---  ------          --------------  -----\n",
            " 0   ingresos        202 non-null    int64\n",
            " 1   gastos_comunes  202 non-null    int64\n",
            " 2   pago_coche      202 non-null    int64\n",
            " 3   gastos_otros    202 non-null    int64\n",
            " 4   ahorros         202 non-null    int64\n",
            " 5   vivienda        202 non-null    int64\n",
            " 6   estado_civil    202 non-null    int64\n",
            " 7   hijos           202 non-null    int64\n",
            " 8   trabajo         202 non-null    int64\n",
            " 9   comprar         202 non-null    int64\n",
            "dtypes: int64(10)\n",
            "memory usage: 15.9 KB\n"
          ],
          "name": "stdout"
        }
      ]
    },
    {
      "cell_type": "code",
      "metadata": {
        "colab": {
          "base_uri": "https://localhost:8080/",
          "height": 317
        },
        "id": "GfDBNGXJ23Qc",
        "outputId": "78de2ce4-a522-4c29-a567-6370a4d2887d"
      },
      "source": [
        "#Muestra información estadística de nuestro dataset\n",
        "dataset.describe()"
      ],
      "execution_count": null,
      "outputs": [
        {
          "output_type": "execute_result",
          "data": {
            "text/html": [
              "<div>\n",
              "<style scoped>\n",
              "    .dataframe tbody tr th:only-of-type {\n",
              "        vertical-align: middle;\n",
              "    }\n",
              "\n",
              "    .dataframe tbody tr th {\n",
              "        vertical-align: top;\n",
              "    }\n",
              "\n",
              "    .dataframe thead th {\n",
              "        text-align: right;\n",
              "    }\n",
              "</style>\n",
              "<table border=\"1\" class=\"dataframe\">\n",
              "  <thead>\n",
              "    <tr style=\"text-align: right;\">\n",
              "      <th></th>\n",
              "      <th>ingresos</th>\n",
              "      <th>gastos_comunes</th>\n",
              "      <th>pago_coche</th>\n",
              "      <th>gastos_otros</th>\n",
              "      <th>ahorros</th>\n",
              "      <th>vivienda</th>\n",
              "      <th>estado_civil</th>\n",
              "      <th>hijos</th>\n",
              "      <th>trabajo</th>\n",
              "      <th>comprar</th>\n",
              "    </tr>\n",
              "  </thead>\n",
              "  <tbody>\n",
              "    <tr>\n",
              "      <th>count</th>\n",
              "      <td>202.000000</td>\n",
              "      <td>202.000000</td>\n",
              "      <td>202.000000</td>\n",
              "      <td>202.000000</td>\n",
              "      <td>202.000000</td>\n",
              "      <td>202.000000</td>\n",
              "      <td>202.000000</td>\n",
              "      <td>202.000000</td>\n",
              "      <td>202.000000</td>\n",
              "      <td>202.000000</td>\n",
              "    </tr>\n",
              "    <tr>\n",
              "      <th>mean</th>\n",
              "      <td>4958.995050</td>\n",
              "      <td>971.584158</td>\n",
              "      <td>211.742574</td>\n",
              "      <td>515.425743</td>\n",
              "      <td>38749.668317</td>\n",
              "      <td>373349.638614</td>\n",
              "      <td>1.024752</td>\n",
              "      <td>1.232673</td>\n",
              "      <td>4.490099</td>\n",
              "      <td>0.331683</td>\n",
              "    </tr>\n",
              "    <tr>\n",
              "      <th>std</th>\n",
              "      <td>1682.862556</td>\n",
              "      <td>272.106351</td>\n",
              "      <td>124.940754</td>\n",
              "      <td>168.103075</td>\n",
              "      <td>17365.231870</td>\n",
              "      <td>136371.525622</td>\n",
              "      <td>0.837184</td>\n",
              "      <td>1.367833</td>\n",
              "      <td>2.535794</td>\n",
              "      <td>0.471988</td>\n",
              "    </tr>\n",
              "    <tr>\n",
              "      <th>min</th>\n",
              "      <td>2008.000000</td>\n",
              "      <td>384.000000</td>\n",
              "      <td>0.000000</td>\n",
              "      <td>201.000000</td>\n",
              "      <td>10319.000000</td>\n",
              "      <td>176553.000000</td>\n",
              "      <td>0.000000</td>\n",
              "      <td>0.000000</td>\n",
              "      <td>0.000000</td>\n",
              "      <td>0.000000</td>\n",
              "    </tr>\n",
              "    <tr>\n",
              "      <th>25%</th>\n",
              "      <td>3513.750000</td>\n",
              "      <td>766.750000</td>\n",
              "      <td>99.000000</td>\n",
              "      <td>383.250000</td>\n",
              "      <td>24964.250000</td>\n",
              "      <td>274810.000000</td>\n",
              "      <td>0.000000</td>\n",
              "      <td>0.000000</td>\n",
              "      <td>2.000000</td>\n",
              "      <td>0.000000</td>\n",
              "    </tr>\n",
              "    <tr>\n",
              "      <th>50%</th>\n",
              "      <td>4947.500000</td>\n",
              "      <td>968.000000</td>\n",
              "      <td>208.500000</td>\n",
              "      <td>522.500000</td>\n",
              "      <td>38523.000000</td>\n",
              "      <td>340783.500000</td>\n",
              "      <td>1.000000</td>\n",
              "      <td>1.000000</td>\n",
              "      <td>5.000000</td>\n",
              "      <td>0.000000</td>\n",
              "    </tr>\n",
              "    <tr>\n",
              "      <th>75%</th>\n",
              "      <td>6374.500000</td>\n",
              "      <td>1165.250000</td>\n",
              "      <td>318.750000</td>\n",
              "      <td>656.750000</td>\n",
              "      <td>52150.750000</td>\n",
              "      <td>444482.000000</td>\n",
              "      <td>2.000000</td>\n",
              "      <td>2.000000</td>\n",
              "      <td>7.000000</td>\n",
              "      <td>1.000000</td>\n",
              "    </tr>\n",
              "    <tr>\n",
              "      <th>max</th>\n",
              "      <td>7984.000000</td>\n",
              "      <td>1585.000000</td>\n",
              "      <td>448.000000</td>\n",
              "      <td>828.000000</td>\n",
              "      <td>69934.000000</td>\n",
              "      <td>669540.000000</td>\n",
              "      <td>2.000000</td>\n",
              "      <td>4.000000</td>\n",
              "      <td>8.000000</td>\n",
              "      <td>1.000000</td>\n",
              "    </tr>\n",
              "  </tbody>\n",
              "</table>\n",
              "</div>"
            ],
            "text/plain": [
              "          ingresos  gastos_comunes  ...     trabajo     comprar\n",
              "count   202.000000      202.000000  ...  202.000000  202.000000\n",
              "mean   4958.995050      971.584158  ...    4.490099    0.331683\n",
              "std    1682.862556      272.106351  ...    2.535794    0.471988\n",
              "min    2008.000000      384.000000  ...    0.000000    0.000000\n",
              "25%    3513.750000      766.750000  ...    2.000000    0.000000\n",
              "50%    4947.500000      968.000000  ...    5.000000    0.000000\n",
              "75%    6374.500000     1165.250000  ...    7.000000    1.000000\n",
              "max    7984.000000     1585.000000  ...    8.000000    1.000000\n",
              "\n",
              "[8 rows x 10 columns]"
            ]
          },
          "metadata": {
            "tags": []
          },
          "execution_count": 6
        }
      ]
    },
    {
      "cell_type": "code",
      "metadata": {
        "colab": {
          "base_uri": "https://localhost:8080/"
        },
        "id": "fs91fZv93DQr",
        "outputId": "11db18e2-427e-4a69-88dc-c5a2fdbb81dd"
      },
      "source": [
        "#ver qué cantidad de muestras de comprar o alquilar se tiene en el dataset\n",
        "print(dataset.groupby('comprar').size())"
      ],
      "execution_count": null,
      "outputs": [
        {
          "output_type": "stream",
          "text": [
            "comprar\n",
            "0    135\n",
            "1     67\n",
            "dtype: int64\n"
          ],
          "name": "stdout"
        }
      ]
    },
    {
      "cell_type": "code",
      "metadata": {
        "colab": {
          "base_uri": "https://localhost:8080/",
          "height": 281
        },
        "id": "HIqoBP543ODJ",
        "outputId": "b149619c-6a3c-435b-9046-08a8cc2bb104"
      },
      "source": [
        "#ver en una grafica la cantidad de muestras de comprar o alquilar se tiene en el dataset\n",
        "dataset.hist(['comprar'])\n",
        "plt.rcParams['figure.figsize'] = (15, 5)\n",
        "plt.show()"
      ],
      "execution_count": null,
      "outputs": [
        {
          "output_type": "display_data",
          "data": {
            "image/png": "[encoded data removed]",
            "text/plain": [
              "<Figure size 432x288 with 1 Axes>"
            ]
          },
          "metadata": {
            "tags": [],
            "needs_background": "light"
          }
        }
      ]
    },
    {
      "cell_type": "code",
      "metadata": {
        "colab": {
          "base_uri": "https://localhost:8080/",
          "height": 501
        },
        "id": "3wvUpW9I3bh1",
        "outputId": "47d46611-8d04-436a-8e75-e2342c9d2d96"
      },
      "source": [
        "# hacer histograma de las características quitando la columna de resultados (comprar)\n",
        "dataset.drop(['comprar'], axis=1).hist()\n",
        "plt.show()"
      ],
      "execution_count": null,
      "outputs": [
        {
          "output_type": "display_data",
          "data": {
            "image/png": "[encoded data removed]",
            "text/plain": [
              "<Figure size 1440x720 with 9 Axes>"
            ]
          },
          "metadata": {
            "tags": [],
            "needs_background": "light"
          }
        }
      ]
    },
    {
      "cell_type": "code",
      "metadata": {
        "colab": {
          "base_uri": "https://localhost:8080/",
          "height": 204
        },
        "id": "bkSuIiNV4Chi",
        "outputId": "fcc7a820-ca74-4488-b801-ec7059b2b262"
      },
      "source": [
        "#Creo una feature llamada gastos, uniendo las columnas gastos comunes, gastos otros y pago coche \n",
        "dataset['gastos'] = dataset['gastos_comunes'] + dataset['gastos_otros']+ dataset['pago_coche']\n",
        "dataset.drop(['gastos_comunes','gastos_otros','pago_coche'],axis=1,inplace=True) #Elimino las columnas que ya no me sirven\n",
        "dataset.head()"
      ],
      "execution_count": null,
      "outputs": [
        {
          "output_type": "execute_result",
          "data": {
            "text/html": [
              "<div>\n",
              "<style scoped>\n",
              "    .dataframe tbody tr th:only-of-type {\n",
              "        vertical-align: middle;\n",
              "    }\n",
              "\n",
              "    .dataframe tbody tr th {\n",
              "        vertical-align: top;\n",
              "    }\n",
              "\n",
              "    .dataframe thead th {\n",
              "        text-align: right;\n",
              "    }\n",
              "</style>\n",
              "<table border=\"1\" class=\"dataframe\">\n",
              "  <thead>\n",
              "    <tr style=\"text-align: right;\">\n",
              "      <th></th>\n",
              "      <th>ingresos</th>\n",
              "      <th>ahorros</th>\n",
              "      <th>vivienda</th>\n",
              "      <th>estado_civil</th>\n",
              "      <th>hijos</th>\n",
              "      <th>trabajo</th>\n",
              "      <th>comprar</th>\n",
              "      <th>gastos</th>\n",
              "    </tr>\n",
              "  </thead>\n",
              "  <tbody>\n",
              "    <tr>\n",
              "      <th>0</th>\n",
              "      <td>6000</td>\n",
              "      <td>50000</td>\n",
              "      <td>400000</td>\n",
              "      <td>0</td>\n",
              "      <td>2</td>\n",
              "      <td>2</td>\n",
              "      <td>1</td>\n",
              "      <td>1600</td>\n",
              "    </tr>\n",
              "    <tr>\n",
              "      <th>1</th>\n",
              "      <td>6745</td>\n",
              "      <td>43240</td>\n",
              "      <td>636897</td>\n",
              "      <td>1</td>\n",
              "      <td>3</td>\n",
              "      <td>6</td>\n",
              "      <td>0</td>\n",
              "      <td>1496</td>\n",
              "    </tr>\n",
              "    <tr>\n",
              "      <th>2</th>\n",
              "      <td>6455</td>\n",
              "      <td>57463</td>\n",
              "      <td>321779</td>\n",
              "      <td>2</td>\n",
              "      <td>1</td>\n",
              "      <td>8</td>\n",
              "      <td>1</td>\n",
              "      <td>1926</td>\n",
              "    </tr>\n",
              "    <tr>\n",
              "      <th>3</th>\n",
              "      <td>7098</td>\n",
              "      <td>54506</td>\n",
              "      <td>660933</td>\n",
              "      <td>0</td>\n",
              "      <td>0</td>\n",
              "      <td>3</td>\n",
              "      <td>0</td>\n",
              "      <td>1547</td>\n",
              "    </tr>\n",
              "    <tr>\n",
              "      <th>4</th>\n",
              "      <td>6167</td>\n",
              "      <td>41512</td>\n",
              "      <td>348932</td>\n",
              "      <td>0</td>\n",
              "      <td>0</td>\n",
              "      <td>3</td>\n",
              "      <td>1</td>\n",
              "      <td>1606</td>\n",
              "    </tr>\n",
              "  </tbody>\n",
              "</table>\n",
              "</div>"
            ],
            "text/plain": [
              "   ingresos  ahorros  vivienda  estado_civil  hijos  trabajo  comprar  gastos\n",
              "0      6000    50000    400000             0      2        2        1    1600\n",
              "1      6745    43240    636897             1      3        6        0    1496\n",
              "2      6455    57463    321779             2      1        8        1    1926\n",
              "3      7098    54506    660933             0      0        3        0    1547\n",
              "4      6167    41512    348932             0      0        3        1    1606"
            ]
          },
          "metadata": {
            "tags": []
          },
          "execution_count": 17
        }
      ]
    },
    {
      "cell_type": "code",
      "metadata": {
        "colab": {
          "base_uri": "https://localhost:8080/",
          "height": 204
        },
        "id": "Uo2Qz6Ow5nMA",
        "outputId": "f22d72af-0d96-4966-9346-95fce608602e"
      },
      "source": [
        "#creo un feature llamado financiamiento restando las culumnas vivienda - ahorros\n",
        "dataset['financiamiento']=dataset['vivienda']-dataset['ahorros']\n",
        "dataset.head()"
      ],
      "execution_count": null,
      "outputs": [
        {
          "output_type": "execute_result",
          "data": {
            "text/html": [
              "<div>\n",
              "<style scoped>\n",
              "    .dataframe tbody tr th:only-of-type {\n",
              "        vertical-align: middle;\n",
              "    }\n",
              "\n",
              "    .dataframe tbody tr th {\n",
              "        vertical-align: top;\n",
              "    }\n",
              "\n",
              "    .dataframe thead th {\n",
              "        text-align: right;\n",
              "    }\n",
              "</style>\n",
              "<table border=\"1\" class=\"dataframe\">\n",
              "  <thead>\n",
              "    <tr style=\"text-align: right;\">\n",
              "      <th></th>\n",
              "      <th>ingresos</th>\n",
              "      <th>ahorros</th>\n",
              "      <th>vivienda</th>\n",
              "      <th>estado_civil</th>\n",
              "      <th>hijos</th>\n",
              "      <th>trabajo</th>\n",
              "      <th>comprar</th>\n",
              "      <th>gastos</th>\n",
              "      <th>financiamiento</th>\n",
              "    </tr>\n",
              "  </thead>\n",
              "  <tbody>\n",
              "    <tr>\n",
              "      <th>0</th>\n",
              "      <td>6000</td>\n",
              "      <td>50000</td>\n",
              "      <td>400000</td>\n",
              "      <td>0</td>\n",
              "      <td>2</td>\n",
              "      <td>2</td>\n",
              "      <td>1</td>\n",
              "      <td>1600</td>\n",
              "      <td>350000</td>\n",
              "    </tr>\n",
              "    <tr>\n",
              "      <th>1</th>\n",
              "      <td>6745</td>\n",
              "      <td>43240</td>\n",
              "      <td>636897</td>\n",
              "      <td>1</td>\n",
              "      <td>3</td>\n",
              "      <td>6</td>\n",
              "      <td>0</td>\n",
              "      <td>1496</td>\n",
              "      <td>593657</td>\n",
              "    </tr>\n",
              "    <tr>\n",
              "      <th>2</th>\n",
              "      <td>6455</td>\n",
              "      <td>57463</td>\n",
              "      <td>321779</td>\n",
              "      <td>2</td>\n",
              "      <td>1</td>\n",
              "      <td>8</td>\n",
              "      <td>1</td>\n",
              "      <td>1926</td>\n",
              "      <td>264316</td>\n",
              "    </tr>\n",
              "    <tr>\n",
              "      <th>3</th>\n",
              "      <td>7098</td>\n",
              "      <td>54506</td>\n",
              "      <td>660933</td>\n",
              "      <td>0</td>\n",
              "      <td>0</td>\n",
              "      <td>3</td>\n",
              "      <td>0</td>\n",
              "      <td>1547</td>\n",
              "      <td>606427</td>\n",
              "    </tr>\n",
              "    <tr>\n",
              "      <th>4</th>\n",
              "      <td>6167</td>\n",
              "      <td>41512</td>\n",
              "      <td>348932</td>\n",
              "      <td>0</td>\n",
              "      <td>0</td>\n",
              "      <td>3</td>\n",
              "      <td>1</td>\n",
              "      <td>1606</td>\n",
              "      <td>307420</td>\n",
              "    </tr>\n",
              "  </tbody>\n",
              "</table>\n",
              "</div>"
            ],
            "text/plain": [
              "   ingresos  ahorros  vivienda  ...  comprar  gastos  financiamiento\n",
              "0      6000    50000    400000  ...        1    1600          350000\n",
              "1      6745    43240    636897  ...        0    1496          593657\n",
              "2      6455    57463    321779  ...        1    1926          264316\n",
              "3      7098    54506    660933  ...        0    1547          606427\n",
              "4      6167    41512    348932  ...        1    1606          307420\n",
              "\n",
              "[5 rows x 9 columns]"
            ]
          },
          "metadata": {
            "tags": []
          },
          "execution_count": 18
        }
      ]
    },
    {
      "cell_type": "code",
      "metadata": {
        "colab": {
          "base_uri": "https://localhost:8080/"
        },
        "id": "3Jb7RJzc6mpF",
        "outputId": "ef317a5e-494a-41d1-974b-2803bf9b3e46"
      },
      "source": [
        "dataset.isnull().sum() #Verficvo los valores nulos de mi dataset : no hay valores nulos"
      ],
      "execution_count": null,
      "outputs": [
        {
          "output_type": "execute_result",
          "data": {
            "text/plain": [
              "ingresos          0\n",
              "ahorros           0\n",
              "vivienda          0\n",
              "estado_civil      0\n",
              "hijos             0\n",
              "trabajo           0\n",
              "comprar           0\n",
              "gastos            0\n",
              "financiamiento    0\n",
              "dtype: int64"
            ]
          },
          "metadata": {
            "tags": []
          },
          "execution_count": 19
        }
      ]
    },
    {
      "cell_type": "code",
      "metadata": {
        "colab": {
          "base_uri": "https://localhost:8080/",
          "height": 506
        },
        "id": "v68C6x6u7ByS",
        "outputId": "0f4b4137-5450-42d8-a495-3b4f5dffac50"
      },
      "source": [
        "#grafico la diferencia entre estado civil ingresos y trabajo \n",
        "#x = trabajo y= ingresos , estado civil\n",
        "sns.barplot(dataset['trabajo'],dataset['ingresos'],dataset['estado_civil'])"
      ],
      "execution_count": null,
      "outputs": [
        {
          "output_type": "execute_result",
          "data": {
            "text/plain": [
              "<matplotlib.axes._subplots.AxesSubplot at 0x7f3f42b77ac8>"
            ]
          },
          "metadata": {
            "tags": []
          },
          "execution_count": 20
        },
        {
          "output_type": "display_data",
          "data": {
            "image/png": "[encoded data removed]",
            "text/plain": [
              "<Figure size 1440x720 with 1 Axes>"
            ]
          },
          "metadata": {
            "tags": [],
            "needs_background": "light"
          }
        }
      ]
    },
    {
      "cell_type": "code",
      "metadata": {
        "colab": {
          "base_uri": "https://localhost:8080/",
          "height": 352
        },
        "id": "BqBm-XTs7XQz",
        "outputId": "828571af-e7e0-49ff-a5ef-f467f0ef3607"
      },
      "source": [
        "#Grafico de estado civil x hijos\n",
        "plt.figure(figsize=(15,5))\n",
        "sns.barplot(x=dataset['estado_civil'], y=dataset['hijos'])"
      ],
      "execution_count": null,
      "outputs": [
        {
          "output_type": "execute_result",
          "data": {
            "text/plain": [
              "<matplotlib.axes._subplots.AxesSubplot at 0x7f3f42a76b70>"
            ]
          },
          "metadata": {
            "tags": []
          },
          "execution_count": 21
        },
        {
          "output_type": "display_data",
          "data": {
            "image/png": "[encoded data removed]",
            "text/plain": [
              "<Figure size 1080x360 with 1 Axes>"
            ]
          },
          "metadata": {
            "tags": [],
            "needs_background": "light"
          }
        }
      ]
    },
    {
      "cell_type": "code",
      "metadata": {
        "colab": {
          "base_uri": "https://localhost:8080/",
          "height": 352
        },
        "id": "AayMXI4L78gX",
        "outputId": "a5a2c5d7-c53f-41bf-c1b4-1bc925b9a6c0"
      },
      "source": [
        "#Grafico de estado civil x ingresos\n",
        "plt.figure(figsize=(15,5))\n",
        "sns.barplot(x=dataset['estado_civil'], y=dataset['ingresos'])"
      ],
      "execution_count": null,
      "outputs": [
        {
          "output_type": "execute_result",
          "data": {
            "text/plain": [
              "<matplotlib.axes._subplots.AxesSubplot at 0x7f3f42a22710>"
            ]
          },
          "metadata": {
            "tags": []
          },
          "execution_count": 23
        },
        {
          "output_type": "display_data",
          "data": {
            "image/png": "[encoded data removed]",
            "text/plain": [
              "<Figure size 1080x360 with 1 Axes>"
            ]
          },
          "metadata": {
            "tags": [],
            "needs_background": "light"
          }
        }
      ]
    },
    {
      "cell_type": "code",
      "metadata": {
        "colab": {
          "base_uri": "https://localhost:8080/",
          "height": 351
        },
        "id": "sG9rNvpo8I2Y",
        "outputId": "f75fdab4-fafd-4960-ab90-bd7e5b507780"
      },
      "source": [
        "#Grafico de trabajo  x ingresos\n",
        "plt.figure(figsize=(15,5))\n",
        "sns.barplot(x=dataset['trabajo'], y=dataset['ingresos'])"
      ],
      "execution_count": null,
      "outputs": [
        {
          "output_type": "execute_result",
          "data": {
            "text/plain": [
              "<matplotlib.axes._subplots.AxesSubplot at 0x7f3f41168b70>"
            ]
          },
          "metadata": {
            "tags": []
          },
          "execution_count": 24
        },
        {
          "output_type": "display_data",
          "data": {
            "image/png": "[encoded data removed]",
            "text/plain": [
              "<Figure size 1080x360 with 1 Axes>"
            ]
          },
          "metadata": {
            "tags": [],
            "needs_background": "light"
          }
        }
      ]
    },
    {
      "cell_type": "code",
      "metadata": {
        "colab": {
          "base_uri": "https://localhost:8080/",
          "height": 80
        },
        "id": "fM3j0Ztb8UXx",
        "outputId": "dd141316-c6e2-41cc-94c5-f7865881012d"
      },
      "source": [
        "dataset.sample()"
      ],
      "execution_count": null,
      "outputs": [
        {
          "output_type": "execute_result",
          "data": {
            "text/html": [
              "<div>\n",
              "<style scoped>\n",
              "    .dataframe tbody tr th:only-of-type {\n",
              "        vertical-align: middle;\n",
              "    }\n",
              "\n",
              "    .dataframe tbody tr th {\n",
              "        vertical-align: top;\n",
              "    }\n",
              "\n",
              "    .dataframe thead th {\n",
              "        text-align: right;\n",
              "    }\n",
              "</style>\n",
              "<table border=\"1\" class=\"dataframe\">\n",
              "  <thead>\n",
              "    <tr style=\"text-align: right;\">\n",
              "      <th></th>\n",
              "      <th>ingresos</th>\n",
              "      <th>ahorros</th>\n",
              "      <th>vivienda</th>\n",
              "      <th>estado_civil</th>\n",
              "      <th>hijos</th>\n",
              "      <th>trabajo</th>\n",
              "      <th>comprar</th>\n",
              "      <th>gastos</th>\n",
              "      <th>financiamiento</th>\n",
              "    </tr>\n",
              "  </thead>\n",
              "  <tbody>\n",
              "    <tr>\n",
              "      <th>50</th>\n",
              "      <td>4952</td>\n",
              "      <td>29597</td>\n",
              "      <td>261983</td>\n",
              "      <td>1</td>\n",
              "      <td>2</td>\n",
              "      <td>7</td>\n",
              "      <td>1</td>\n",
              "      <td>2204</td>\n",
              "      <td>232386</td>\n",
              "    </tr>\n",
              "  </tbody>\n",
              "</table>\n",
              "</div>"
            ],
            "text/plain": [
              "    ingresos  ahorros  vivienda  ...  comprar  gastos  financiamiento\n",
              "50      4952    29597    261983  ...        1    2204          232386\n",
              "\n",
              "[1 rows x 9 columns]"
            ]
          },
          "metadata": {
            "tags": []
          },
          "execution_count": 25
        }
      ]
    },
    {
      "cell_type": "code",
      "metadata": {
        "id": "TdoTAC4eAfAy"
      },
      "source": [
        "# Como la tasa es una variable numérica con una distribución sesgada por los valores ceros, usamos la transformación\n",
        "# de BOX COX para buscar aproximarla a una distribución normal. Ese procedimiento entrega datos normalizados\n",
        "# a los modelos lineales, que tienden a responder mejor con la entrada asi.\n",
        "\n",
        "\n",
        "\n",
        "from scipy.stats import boxcox #importando libreria estadistica\n",
        "dataset['ingresos'] = boxcox(dataset['ingresos'] + 1)[0]\n"
      ],
      "execution_count": null,
      "outputs": []
    },
    {
      "cell_type": "code",
      "metadata": {
        "colab": {
          "base_uri": "https://localhost:8080/",
          "height": 502
        },
        "id": "Z7olvwzZCplc",
        "outputId": "7c418367-d7b2-4512-f33d-97df77531ed8"
      },
      "source": [
        "# El gráfico muestra una nueva distribución de la columna 'ingresos'.\n",
        "sns.distplot(dataset['ingresos'])\n"
      ],
      "execution_count": null,
      "outputs": [
        {
          "output_type": "execute_result",
          "data": {
            "text/plain": [
              "<matplotlib.axes._subplots.AxesSubplot at 0x7f3f40fbc048>"
            ]
          },
          "metadata": {
            "tags": []
          },
          "execution_count": 32
        },
        {
          "output_type": "display_data",
          "data": {
            "image/png": "[encoded data removed]",
            "text/plain": [
              "<Figure size 1440x720 with 1 Axes>"
            ]
          },
          "metadata": {
            "tags": [],
            "needs_background": "light"
          }
        }
      ]
    },
    {
      "cell_type": "code",
      "metadata": {
        "colab": {
          "base_uri": "https://localhost:8080/",
          "height": 687
        },
        "id": "F2sYMySwC-3j",
        "outputId": "c0a0da56-9500-438a-aa23-cccdde6f589d"
      },
      "source": [
        "plt.figure(figsize=(12,12)) \n",
        "sns.heatmap(data=dataset.corr(),annot=True,linewidths=0.2,cmap='coolwarm', square=True);"
      ],
      "execution_count": null,
      "outputs": [
        {
          "output_type": "display_data",
          "data": {
            "image/png": "[encoded data removed]",
            "text/plain": [
              "<Figure size 864x864 with 2 Axes>"
            ]
          },
          "metadata": {
            "tags": [],
            "needs_background": "light"
          }
        }
      ]
    }
  ]
}